{
 "cells": [
  {
   "cell_type": "code",
   "execution_count": 1,
   "metadata": {},
   "outputs": [
    {
     "name": "stdout",
     "output_type": "stream",
     "text": [
      "Collecting linkedin-jobs-scraper\n",
      "  Downloading linkedin_jobs_scraper-4.1.1-py3-none-any.whl.metadata (12 kB)\n",
      "Collecting selenium>=4.12.0 (from linkedin-jobs-scraper)\n",
      "  Downloading selenium-4.23.1-py3-none-any.whl.metadata (7.1 kB)\n",
      "Collecting urllib3<3,>=1.26 (from urllib3[socks]<3,>=1.26->selenium>=4.12.0->linkedin-jobs-scraper)\n",
      "  Using cached urllib3-2.2.2-py3-none-any.whl.metadata (6.4 kB)\n",
      "Collecting trio~=0.17 (from selenium>=4.12.0->linkedin-jobs-scraper)\n",
      "  Downloading trio-0.26.2-py3-none-any.whl.metadata (8.6 kB)\n",
      "Collecting trio-websocket~=0.9 (from selenium>=4.12.0->linkedin-jobs-scraper)\n",
      "  Downloading trio_websocket-0.11.1-py3-none-any.whl.metadata (4.7 kB)\n",
      "Collecting certifi>=2021.10.8 (from selenium>=4.12.0->linkedin-jobs-scraper)\n",
      "  Using cached certifi-2024.7.4-py3-none-any.whl.metadata (2.2 kB)\n",
      "Requirement already satisfied: typing_extensions~=4.9 in c:\\users\\aanur\\projects\\linkedin_job_collector\\.venv\\lib\\site-packages (from selenium>=4.12.0->linkedin-jobs-scraper) (4.12.2)\n",
      "Collecting websocket-client~=1.8 (from selenium>=4.12.0->linkedin-jobs-scraper)\n",
      "  Downloading websocket_client-1.8.0-py3-none-any.whl.metadata (8.0 kB)\n",
      "Collecting attrs>=23.2.0 (from trio~=0.17->selenium>=4.12.0->linkedin-jobs-scraper)\n",
      "  Downloading attrs-24.2.0-py3-none-any.whl.metadata (11 kB)\n",
      "Collecting sortedcontainers (from trio~=0.17->selenium>=4.12.0->linkedin-jobs-scraper)\n",
      "  Downloading sortedcontainers-2.4.0-py2.py3-none-any.whl.metadata (10 kB)\n",
      "Collecting idna (from trio~=0.17->selenium>=4.12.0->linkedin-jobs-scraper)\n",
      "  Using cached idna-3.7-py3-none-any.whl.metadata (9.9 kB)\n",
      "Collecting outcome (from trio~=0.17->selenium>=4.12.0->linkedin-jobs-scraper)\n",
      "  Downloading outcome-1.3.0.post0-py2.py3-none-any.whl.metadata (2.6 kB)\n",
      "Collecting sniffio>=1.3.0 (from trio~=0.17->selenium>=4.12.0->linkedin-jobs-scraper)\n",
      "  Using cached sniffio-1.3.1-py3-none-any.whl.metadata (3.9 kB)\n",
      "Collecting cffi>=1.14 (from trio~=0.17->selenium>=4.12.0->linkedin-jobs-scraper)\n",
      "  Downloading cffi-1.17.0-cp310-cp310-win_amd64.whl.metadata (1.6 kB)\n",
      "Requirement already satisfied: exceptiongroup in c:\\users\\aanur\\projects\\linkedin_job_collector\\.venv\\lib\\site-packages (from trio~=0.17->selenium>=4.12.0->linkedin-jobs-scraper) (1.2.2)\n",
      "Collecting wsproto>=0.14 (from trio-websocket~=0.9->selenium>=4.12.0->linkedin-jobs-scraper)\n",
      "  Downloading wsproto-1.2.0-py3-none-any.whl.metadata (5.6 kB)\n",
      "Collecting pysocks!=1.5.7,<2.0,>=1.5.6 (from urllib3[socks]<3,>=1.26->selenium>=4.12.0->linkedin-jobs-scraper)\n",
      "  Downloading PySocks-1.7.1-py3-none-any.whl.metadata (13 kB)\n",
      "Collecting pycparser (from cffi>=1.14->trio~=0.17->selenium>=4.12.0->linkedin-jobs-scraper)\n",
      "  Using cached pycparser-2.22-py3-none-any.whl.metadata (943 bytes)\n",
      "Collecting h11<1,>=0.9.0 (from wsproto>=0.14->trio-websocket~=0.9->selenium>=4.12.0->linkedin-jobs-scraper)\n",
      "  Using cached h11-0.14.0-py3-none-any.whl.metadata (8.2 kB)\n",
      "Downloading linkedin_jobs_scraper-4.1.1-py3-none-any.whl (28 kB)\n",
      "Downloading selenium-4.23.1-py3-none-any.whl (9.4 MB)\n",
      "   ---------------------------------------- 0.0/9.4 MB ? eta -:--:--\n",
      "   --- ------------------------------------ 0.8/9.4 MB 4.2 MB/s eta 0:00:03\n",
      "   ------ --------------------------------- 1.6/9.4 MB 4.2 MB/s eta 0:00:02\n",
      "   ----------- ---------------------------- 2.6/9.4 MB 4.9 MB/s eta 0:00:02\n",
      "   ------------- -------------------------- 3.1/9.4 MB 4.2 MB/s eta 0:00:02\n",
      "   ----------------- ---------------------- 4.2/9.4 MB 4.1 MB/s eta 0:00:02\n",
      "   ---------------------- ----------------- 5.2/9.4 MB 4.3 MB/s eta 0:00:01\n",
      "   ----------------------------- ---------- 7.1/9.4 MB 4.8 MB/s eta 0:00:01\n",
      "   ------------------------------------ --- 8.7/9.4 MB 5.2 MB/s eta 0:00:01\n",
      "   ---------------------------------------- 9.4/9.4 MB 5.2 MB/s eta 0:00:00\n",
      "Using cached certifi-2024.7.4-py3-none-any.whl (162 kB)\n",
      "Downloading trio-0.26.2-py3-none-any.whl (475 kB)\n",
      "Downloading trio_websocket-0.11.1-py3-none-any.whl (17 kB)\n",
      "Using cached urllib3-2.2.2-py3-none-any.whl (121 kB)\n",
      "Downloading websocket_client-1.8.0-py3-none-any.whl (58 kB)\n",
      "Downloading attrs-24.2.0-py3-none-any.whl (63 kB)\n",
      "Downloading cffi-1.17.0-cp310-cp310-win_amd64.whl (180 kB)\n",
      "Downloading PySocks-1.7.1-py3-none-any.whl (16 kB)\n",
      "Using cached sniffio-1.3.1-py3-none-any.whl (10 kB)\n",
      "Downloading wsproto-1.2.0-py3-none-any.whl (24 kB)\n",
      "Using cached idna-3.7-py3-none-any.whl (66 kB)\n",
      "Downloading outcome-1.3.0.post0-py2.py3-none-any.whl (10 kB)\n",
      "Downloading sortedcontainers-2.4.0-py2.py3-none-any.whl (29 kB)\n",
      "Using cached h11-0.14.0-py3-none-any.whl (58 kB)\n",
      "Using cached pycparser-2.22-py3-none-any.whl (117 kB)\n",
      "Installing collected packages: sortedcontainers, websocket-client, urllib3, sniffio, pysocks, pycparser, idna, h11, certifi, attrs, wsproto, outcome, cffi, trio, trio-websocket, selenium, linkedin-jobs-scraper\n",
      "Successfully installed attrs-24.2.0 certifi-2024.7.4 cffi-1.17.0 h11-0.14.0 idna-3.7 linkedin-jobs-scraper-4.1.1 outcome-1.3.0.post0 pycparser-2.22 pysocks-1.7.1 selenium-4.23.1 sniffio-1.3.1 sortedcontainers-2.4.0 trio-0.26.2 trio-websocket-0.11.1 urllib3-2.2.2 websocket-client-1.8.0 wsproto-1.2.0\n"
     ]
    }
   ],
   "source": [
    "!pip install linkedin-jobs-scraper"
   ]
  },
  {
   "cell_type": "code",
   "execution_count": 1,
   "metadata": {},
   "outputs": [
    {
     "name": "stdout",
     "output_type": "stream",
     "text": [
      "env: LI_AT_COOKIE=AQEDASpNOCMC09sBAAABkSM5dqcAAAGRR0X6p00Ai4Q-5id-Z8_px0n9NjCp2RNL9epZzd_iLSh93wwolUmce8WzHvjDRmK8PC1YvuJmJpaWuY0VyWGsU51NJuOuKUbNEfIe7XhGIl5uP63PFhZdakTs\n"
     ]
    }
   ],
   "source": [
    "%env LI_AT_COOKIE=AQEDASpNOCMC09sBAAABkSM5dqcAAAGRR0X6p00Ai4Q-5id-Z8_px0n9NjCp2RNL9epZzd_iLSh93wwolUmce8WzHvjDRmK8PC1YvuJmJpaWuY0VyWGsU51NJuOuKUbNEfIe7XhGIl5uP63PFhZdakTs"
   ]
  },
  {
   "cell_type": "code",
   "execution_count": 2,
   "metadata": {},
   "outputs": [
    {
     "name": "stderr",
     "output_type": "stream",
     "text": [
      "INFO:li:scraper:('Using strategy AuthenticatedStrategy',)\n"
     ]
    }
   ],
   "source": [
    "\n",
    "import logging\n",
    "from linkedin_jobs_scraper import LinkedinScraper\n",
    "from linkedin_jobs_scraper.events import Events, EventData, EventMetrics\n",
    "from linkedin_jobs_scraper.query import Query, QueryOptions, QueryFilters\n",
    "from linkedin_jobs_scraper.filters import RelevanceFilters, TimeFilters, TypeFilters, ExperienceLevelFilters, \\\n",
    "    OnSiteOrRemoteFilters, SalaryBaseFilters\n",
    "\n",
    "# Change root logger level (default is WARN)\n",
    "logging.basicConfig(level=logging.INFO)\n",
    "\n",
    "\n",
    "# Fired once for each successfully processed job\n",
    "def on_data(data: EventData):\n",
    "    print('[ON_DATA]', data.title, data.company, data.company_link, data.date, data.link, data.insights,\n",
    "          len(data.description))\n",
    "\n",
    "\n",
    "# Fired once for each page (25 jobs)\n",
    "def on_metrics(metrics: EventMetrics):\n",
    "    print('[ON_METRICS]', str(metrics))\n",
    "\n",
    "\n",
    "def on_error(error):\n",
    "    print('[ON_ERROR]', error)\n",
    "\n",
    "\n",
    "def on_end():\n",
    "    print('[ON_END]')\n",
    "\n",
    "\n",
    "scraper = LinkedinScraper(\n",
    "    chrome_executable_path=None,  # Custom Chrome executable path (e.g. /foo/bar/bin/chromedriver)\n",
    "    chrome_binary_location=None,  # Custom path to Chrome/Chromium binary (e.g. /foo/bar/chrome-mac/Chromium.app/Contents/MacOS/Chromium)\n",
    "    chrome_options=None,  # Custom Chrome options here\n",
    "    headless=True,  # Overrides headless mode only if chrome_options is None\n",
    "    max_workers=1,  # How many threads will be spawned to run queries concurrently (one Chrome driver for each thread)\n",
    "    slow_mo=0.5,  # Slow down the scraper to avoid 'Too many requests 429' errors (in seconds)\n",
    "    page_load_timeout=400  # Page load timeout (in seconds)    \n",
    ")\n",
    "\n",
    "# Add event listeners\n",
    "scraper.on(Events.DATA, on_data)\n",
    "scraper.on(Events.ERROR, on_error)\n",
    "scraper.on(Events.END, on_end)\n",
    "\n",
    "queries = [\n",
    "    Query(\n",
    "        query='data-science-jobs',\n",
    "        options=QueryOptions(\n",
    "            locations=['India'],\n",
    "            apply_link=True,  # Try to extract apply link (easy applies are skipped). If set to True, scraping is slower because an additional page must be navigated. Default to False.\n",
    "            skip_promoted_jobs=True,  # Skip promoted jobs. Default to False.\n",
    "            page_offset=2,  # How many pages to skip\n",
    "            limit=10_000\n",
    "        )\n",
    "    ),\n",
    "]"
   ]
  },
  {
   "cell_type": "code",
   "execution_count": 3,
   "metadata": {},
   "outputs": [
    {
     "name": "stderr",
     "output_type": "stream",
     "text": [
      "INFO:li:scraper:('Starting new query', \"Query(query=data-science-jobs options=QueryOptions(limit=10000 locations=['India'] apply_link=True skip_promoted_jobs=True page_offset=2))\")\n",
      "INFO:li:scraper:('Chrome debugger url', 'http://localhost:51323')\n",
      "INFO:li:scraper:('Websocket debugger url: ', 'ws://localhost:51323/devtools/page/0B1A476D125671263C4A10DF1D7797CF')\n",
      "INFO:li:scraper:('[data-science-jobs][India]', 'Setting authentication cookie')\n",
      "INFO:li:scraper:('[data-science-jobs][India]', 'Opening https://www.linkedin.com/jobs/search?keywords=data-science-jobs&location=India&start=50')\n",
      "INFO:li:scraper:('[data-science-jobs][India]', 'Session is valid')\n",
      "INFO:li:scraper:('[data-science-jobs][India][51]', 'Processed')\n"
     ]
    },
    {
     "name": "stdout",
     "output_type": "stream",
     "text": [
      "[ON_DATA] Data Scientist with verification ValueLabs   https://www.linkedin.com/jobs/view/3992293499/?trk=flagship3_search_srp_jobs ['On-site Full-time Mid-Senior level', '5,001-10,000 employees · IT Services and IT Consulting', 'Skills: Data Science, Python (Programming Language), +6 more', 'See how you compare to over 100 other applicants. Try Premium for ₹0', '', 'Am I a good fit for this job?', 'How can I best position myself for this job?', 'Tell me more about ValueLabs'] 1585\n"
     ]
    },
    {
     "name": "stderr",
     "output_type": "stream",
     "text": [
      "INFO:li:scraper:('[data-science-jobs][India][52]', 'Skipped because promoted')\n",
      "INFO:li:scraper:('[data-science-jobs][India][53]', 'Processed')\n"
     ]
    },
    {
     "name": "stdout",
     "output_type": "stream",
     "text": [
      "[ON_DATA] DS-Python with OOPs with verification Tech Mahindra  2024-07-25 https://www.linkedin.com/jobs/view/3984540945/?eBP=CwEAAAGRPPEjb2PJZvIAOYT4bAdnqZtv-icWwbbatKAxNsHAzb8gGCudgPQOUsOkmDfluVwmJJTdMr0SstwcXh7HX_fr5Yy7IKRsRF4_kUdMnMtZTfISMfrvVLZmoukPK4bs0cxGv2J87dZZPQoyrPrbOrwpfaQd8DJ5T3PTfVYkNT7q_uHGt2EUKgNOtqyBy_4CT7hMmrMjoHQtKo7DC9Sd1DMjsa5iE8pEBsqrd4alFfcR0kxezyI6jQdBownOcfH0A-XLa4bgHVy1UmEhXN7f9ehDqbsj_gSEYkYirgVD4zept3O79hWNhO1zHHQd_gVdgRct1Z2qWGhzPLvWqrykwCPa3BLtdxpn9a_gKyD3a781Myx6nUA8zo0O2G7577OfnFYwuLaJarnSXhuvs2vQeSLjTArdKJlmWfE2Wlhw&refId=peBbG7RgKcXf4LrcNfdRww%3D%3D&trackingId=%2BTUWDhPgh%2BdZq7qoojGJKA%3D%3D&trk=flagship3_search_srp_jobs ['Hybrid Full-time Mid-Senior level', '10,001+ employees · IT Services and IT Consulting', '1 connection works here · 1 school alum works here', '6 of 9 skills match your profile - you may be a good fit', 'See how you compare to over 100 other applicants. Try Premium for ₹0', '', 'Am I a good fit for this job?', 'How can I best position myself for this job?', 'Tell me more about Tech Mahi...'] 293\n"
     ]
    },
    {
     "name": "stderr",
     "output_type": "stream",
     "text": [
      "INFO:li:scraper:('[data-science-jobs][India][54]', 'Skipped because promoted')\n",
      "INFO:li:scraper:('[data-science-jobs][India][55]', 'Skipped because promoted')\n",
      "INFO:li:scraper:('[data-science-jobs][India][56]', 'Skipped because promoted')\n",
      "INFO:li:scraper:('[data-science-jobs][India][57]', 'Processed')\n"
     ]
    },
    {
     "name": "stdout",
     "output_type": "stream",
     "text": [
      "[ON_DATA] Data Scientist Oil and Gas Job Search Ltd  2024-05-30 https://www.linkedin.com/jobs/view/3934815922/?eBP=CwEAAAGRPPEjb-r7Ba_dTlJz1zLq0UElWatKD59sNaZ778kkgzJ41VN-HbgZqYM97cEJ5E-lR2Zf5Q-TLxgu8v4OdJEF02-zezGMQNMPrY7l7fOG4Hx66d0SJKcEuZ-zgy66r-62fghIPN559UugY_LB0wHI3DYuqwI16rHXVuVDM_1NOB0Oe38J8jaCCcpHwGAlKQ5lqL_Oh_KQQZ_7qIzxAlED4XWZz-cXg23d3T_V2gjO7SCGlWUx896RtQSeLkIqlfh3LjE6cMeqjk5MB3NvIWDaBvVatxsj1Ts6g8BgGzcpKJhcVFhckQczj-Yc5sNnZZC_0ER_BU6vwnazGpjL93hWfAktinFnsx9IP9YnCplY0j_zyBYy0sgtLnO1n5cze54IW4RS2pLc-uPmbF63cqBeo3n4Bnr1724HE5-N&refId=peBbG7RgKcXf4LrcNfdRww%3D%3D&trackingId=XuvrNMYpkG3MV98pyViaxw%3D%3D&trk=flagship3_search_srp_jobs ['On-site Full-time Mid-Senior level', '201-500 employees · Oil and Gas', 'Skills: Data Science, Natural Language Processing (NLP), +8 more', 'See how you compare to 37 applicants. Try Premium for ₹0', '', 'Am I a good fit for this job?', 'How can I best position myself for this job?', 'Tell me more about Oil and G...'] 6561\n"
     ]
    },
    {
     "name": "stderr",
     "output_type": "stream",
     "text": [
      "INFO:li:scraper:('[data-science-jobs][India][58]', 'Skipped because promoted')\n",
      "INFO:li:scraper:('[data-science-jobs][India][59]', 'Skipped because promoted')\n",
      "INFO:li:scraper:('[data-science-jobs][India][60]', 'Skipped because promoted')\n",
      "INFO:li:scraper:('[data-science-jobs][India][61]', 'Skipped because promoted')\n",
      "INFO:li:scraper:('[data-science-jobs][India][62]', 'Skipped because promoted')\n",
      "INFO:li:scraper:('[data-science-jobs][India][63]', 'Skipped because promoted')\n",
      "INFO:li:scraper:('[data-science-jobs][India][64]', 'Skipped because promoted')\n",
      "INFO:li:scraper:('[data-science-jobs][India][65]', 'Skipped because promoted')\n",
      "INFO:li:scraper:('[data-science-jobs][India][66]', 'Skipped because promoted')\n",
      "INFO:li:scraper:('[data-science-jobs][India][67]', 'Skipped because promoted')\n",
      "INFO:li:scraper:('[data-science-jobs][India][68]', 'Skipped because promoted')\n",
      "INFO:li:scraper:('[data-science-jobs][India][69]', 'Skipped because promoted')\n",
      "INFO:li:scraper:('[data-science-jobs][India][70]', 'Skipped because promoted')\n",
      "INFO:li:scraper:('[data-science-jobs][India][71]', 'Skipped because promoted')\n",
      "INFO:li:scraper:('[data-science-jobs][India][72]', 'Skipped because promoted')\n",
      "INFO:li:scraper:('[data-science-jobs][India][73]', 'Skipped because promoted')\n",
      "INFO:li:scraper:('[data-science-jobs][India][74]', 'Skipped because promoted')\n",
      "INFO:li:scraper:('[data-science-jobs][India][75]', 'Skipped because promoted')\n",
      "INFO:li:scraper:('[data-science-jobs][India]', 'No more jobs to process in this page')\n",
      "INFO:li:scraper:('[data-science-jobs][India]', 'Metrics:', '{ processed: 3, failed: 0, missed: 0, skipped: 22 }')\n",
      "INFO:li:scraper:('[data-science-jobs][India]', 'Pagination requested [3]')\n",
      "INFO:li:scraper:('[data-science-jobs][India]', 'Opening https://www.linkedin.com/jobs/search?keywords=data-science-jobs&location=India&start=75')\n",
      "INFO:li:scraper:('[data-science-jobs][India]', 'Waiting for new jobs to load')\n",
      "INFO:li:scraper:('[data-science-jobs][India]', 'Session is valid')\n",
      "INFO:li:scraper:('[data-science-jobs][India][76]', 'Skipped because promoted')\n",
      "INFO:li:scraper:('[data-science-jobs][India][77]', 'Skipped because promoted')\n",
      "INFO:li:scraper:('[data-science-jobs][India][78]', 'Skipped because promoted')\n",
      "INFO:li:scraper:('[data-science-jobs][India][79]', 'Skipped because promoted')\n",
      "INFO:li:scraper:('[data-science-jobs][India][80]', 'Skipped because promoted')\n",
      "INFO:li:scraper:('[data-science-jobs][India][81]', 'Skipped because promoted')\n",
      "INFO:li:scraper:('[data-science-jobs][India][82]', 'Skipped because promoted')\n",
      "INFO:li:scraper:('[data-science-jobs][India][83]', 'Skipped because promoted')\n",
      "INFO:li:scraper:('[data-science-jobs][India][84]', 'Skipped because promoted')\n",
      "INFO:li:scraper:('[data-science-jobs][India][85]', 'Processed')\n"
     ]
    },
    {
     "name": "stdout",
     "output_type": "stream",
     "text": [
      "[ON_DATA] Machine Learning Engineer (2 to 4 Years) Jio  2024-07-30 https://www.linkedin.com/jobs/view/3985678497/?eBP=BUDGET_EXHAUSTED_JOB&refId=YeRWgmVRb%2BGNIodbcSt9LA%3D%3D&trackingId=F4Tpo3rNXVQVS%2BbROVqFKw%3D%3D&trk=flagship3_search_srp_jobs ['On-site Full-time Associate', '10,001+ employees · Telecommunications', '8 of 10 skills match your profile - you may be a good fit', 'See how you compare to 24 applicants. Try Premium for ₹0', '', 'Am I a good fit for this job?', 'How can I best position myself for this job?', 'Tell me more about Jio'] 1490\n"
     ]
    },
    {
     "name": "stderr",
     "output_type": "stream",
     "text": [
      "INFO:li:scraper:('[data-science-jobs][India][86]', 'Processed')\n"
     ]
    },
    {
     "name": "stdout",
     "output_type": "stream",
     "text": [
      "[ON_DATA] Machine Learning Engineer (2 to 4 Years) Jio  2024-07-30 https://www.linkedin.com/jobs/view/3985674964/?eBP=BUDGET_EXHAUSTED_JOB&refId=YeRWgmVRb%2BGNIodbcSt9LA%3D%3D&trackingId=Mc6lMYObU4z3NFtfXDAoDA%3D%3D&trk=flagship3_search_srp_jobs ['On-site Full-time Associate', '10,001+ employees · Telecommunications', '8 of 10 skills match your profile - you may be a good fit', 'See how you compare to over 100 other applicants. Try Premium for ₹0', '', 'Am I a good fit for this job?', 'How can I best position myself for this job?', 'Tell me more about Jio'] 1490\n"
     ]
    },
    {
     "name": "stderr",
     "output_type": "stream",
     "text": [
      "INFO:li:scraper:('[data-science-jobs][India][87]', 'Skipped because promoted')\n",
      "INFO:li:scraper:('[data-science-jobs][India][88]', 'Skipped because promoted')\n",
      "INFO:li:scraper:('[data-science-jobs][India][89]', 'Skipped because promoted')\n",
      "INFO:li:scraper:('[data-science-jobs][India][90]', 'Processed')\n"
     ]
    },
    {
     "name": "stdout",
     "output_type": "stream",
     "text": [
      "[ON_DATA] Data Scientist | 2 to 4 Years| Jio  2024-07-01 https://www.linkedin.com/jobs/view/3983048036/?eBP=BUDGET_EXHAUSTED_JOB&refId=YeRWgmVRb%2BGNIodbcSt9LA%3D%3D&trackingId=yfzbvzZ7Hay4b4OxaFzCyw%3D%3D&trk=flagship3_search_srp_jobs ['On-site Full-time Executive', '10,001+ employees · Telecommunications', 'Skills: Data Science, SQL, +8 more', 'See how you compare to over 100 other applicants. Try Premium for ₹0', '', 'Am I a good fit for this job?', 'How can I best position myself for this job?', 'Tell me more about Jio'] 1149\n"
     ]
    },
    {
     "name": "stderr",
     "output_type": "stream",
     "text": [
      "INFO:li:scraper:('[data-science-jobs][India][91]', 'Processed')\n"
     ]
    },
    {
     "name": "stdout",
     "output_type": "stream",
     "text": [
      "[ON_DATA] Machine Learning Engineer | 2 to 4 Years| Jio  2024-07-01 https://www.linkedin.com/jobs/view/3983053036/?eBP=BUDGET_EXHAUSTED_JOB&refId=YeRWgmVRb%2BGNIodbcSt9LA%3D%3D&trackingId=XlD4PHBkOQO%2Bdo6AX5jOIw%3D%3D&trk=flagship3_search_srp_jobs ['On-site Full-time Executive', '10,001+ employees · Telecommunications', '8 of 10 skills match your profile - you may be a good fit', 'See how you compare to over 100 other applicants. Try Premium for ₹0', '', 'Am I a good fit for this job?', 'How can I best position myself for this job?', 'Tell me more about Jio'] 810\n"
     ]
    },
    {
     "name": "stderr",
     "output_type": "stream",
     "text": [
      "INFO:li:scraper:('[data-science-jobs][India][92]', 'Skipped because promoted')\n",
      "INFO:li:scraper:('[data-science-jobs][India][93]', 'Skipped because promoted')\n",
      "INFO:li:scraper:('[data-science-jobs][India][94]', 'Skipped because promoted')\n",
      "INFO:li:scraper:('[data-science-jobs][India][95]', 'Skipped because promoted')\n",
      "INFO:li:scraper:('[data-science-jobs][India][96]', 'Skipped because promoted')\n",
      "INFO:li:scraper:('[data-science-jobs][India][97]', 'Skipped because promoted')\n"
     ]
    }
   ],
   "source": [
    "scraper.run(queries)"
   ]
  },
  {
   "cell_type": "code",
   "execution_count": null,
   "metadata": {},
   "outputs": [],
   "source": []
  }
 ],
 "metadata": {
  "kernelspec": {
   "display_name": ".venv",
   "language": "python",
   "name": "python3"
  },
  "language_info": {
   "codemirror_mode": {
    "name": "ipython",
    "version": 3
   },
   "file_extension": ".py",
   "mimetype": "text/x-python",
   "name": "python",
   "nbconvert_exporter": "python",
   "pygments_lexer": "ipython3",
   "version": "3.10.11"
  }
 },
 "nbformat": 4,
 "nbformat_minor": 2
}
